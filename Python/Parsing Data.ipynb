{
 "cells": [
  {
   "cell_type": "code",
   "execution_count": 1,
   "id": "optical-blanket",
   "metadata": {},
   "outputs": [],
   "source": [
    "import numpy as np\n",
    "import pandas as pd\n",
    "import re"
   ]
  },
  {
   "cell_type": "code",
   "execution_count": 130,
   "id": "green-relaxation",
   "metadata": {},
   "outputs": [],
   "source": [
    "with open('./data/train/FIN5.txt','r') as d:\n",
    "    g = d.read().split('\\n\\n')\n",
    "    p = pd.DataFrame(g)\n",
    "    p = p.reset_index(drop=False)\n",
    "    \n",
    "    tr = pd.concat([pd.Series(row['index'], row[0].split('\\n')) for _, row in p.iterrows()]).reset_index()\n",
    "    tr.columns = ['var','sentence']\n",
    "\n",
    "    tr = tr.drop([0]).reset_index(drop=True)\n",
    "    tr[['word','POS','drop','tag']] = tr['var'].str.split(\" \",expand=True,)\n",
    "    tr = tr[['sentence', 'word','POS','tag']]"
   ]
  },
  {
   "cell_type": "code",
   "execution_count": 133,
   "id": "upset-estate",
   "metadata": {},
   "outputs": [],
   "source": [
    "with open('./data/test/FIN3.txt','r') as t:\n",
    "    g = t.read().split('\\n\\n')\n",
    "    p = pd.DataFrame(g)\n",
    "    p = p.reset_index(drop=False)\n",
    "    \n",
    "    te = pd.concat([pd.Series(row['index'], row[0].split('\\n')) for _, row in p.iterrows()]).reset_index()\n",
    "    te.columns = ['var','sentence']\n",
    "\n",
    "    te = te.drop([0]).reset_index(drop=True)\n",
    "    te[['word','POS','drop','tag']] = te['var'].str.split(\" \",expand=True,)\n",
    "    te = te[['sentence', 'word','POS','tag']]"
   ]
  },
  {
   "cell_type": "code",
   "execution_count": 136,
   "id": "african-bangladesh",
   "metadata": {},
   "outputs": [],
   "source": [
    "te.to_csv('./data/test.csv',index=False)"
   ]
  },
  {
   "cell_type": "code",
   "execution_count": 137,
   "id": "variable-paste",
   "metadata": {},
   "outputs": [],
   "source": [
    "tr.to_csv('./data/train.csv',index=False)"
   ]
  },
  {
   "cell_type": "code",
   "execution_count": 141,
   "id": "spatial-capital",
   "metadata": {},
   "outputs": [
    {
     "data": {
      "text/plain": [
       "(41015, 4)"
      ]
     },
     "execution_count": 141,
     "metadata": {},
     "output_type": "execute_result"
    }
   ],
   "source": [
    "tr.shape"
   ]
  },
  {
   "cell_type": "code",
   "execution_count": 5,
   "id": "correct-butler",
   "metadata": {},
   "outputs": [],
   "source": [
    "train = pd.read_csv('./data/train.csv')"
   ]
  },
  {
   "cell_type": "code",
   "execution_count": 9,
   "id": "flying-anniversary",
   "metadata": {},
   "outputs": [],
   "source": [
    "test = pd.read_csv('./data/test.csv')"
   ]
  },
  {
   "cell_type": "code",
   "execution_count": 8,
   "id": "premium-rescue",
   "metadata": {},
   "outputs": [
    {
     "data": {
      "text/plain": [
       "array(['O', 'I-ORG', 'I-LOC', 'I-PER', 'I-MISC', nan], dtype=object)"
      ]
     },
     "execution_count": 8,
     "metadata": {},
     "output_type": "execute_result"
    }
   ],
   "source": [
    "train['tag'].unique()"
   ]
  },
  {
   "cell_type": "code",
   "execution_count": 10,
   "id": "dramatic-federal",
   "metadata": {},
   "outputs": [
    {
     "data": {
      "text/plain": [
       "array(['O', 'I-ORG', 'I-PER', 'I-LOC', 'I-MISC', nan], dtype=object)"
      ]
     },
     "execution_count": 10,
     "metadata": {},
     "output_type": "execute_result"
    }
   ],
   "source": [
    "test['tag'].unique()"
   ]
  },
  {
   "cell_type": "code",
   "execution_count": 11,
   "id": "ruled-measurement",
   "metadata": {},
   "outputs": [
    {
     "data": {
      "text/html": [
       "<div>\n",
       "<style scoped>\n",
       "    .dataframe tbody tr th:only-of-type {\n",
       "        vertical-align: middle;\n",
       "    }\n",
       "\n",
       "    .dataframe tbody tr th {\n",
       "        vertical-align: top;\n",
       "    }\n",
       "\n",
       "    .dataframe thead th {\n",
       "        text-align: right;\n",
       "    }\n",
       "</style>\n",
       "<table border=\"1\" class=\"dataframe\">\n",
       "  <thead>\n",
       "    <tr style=\"text-align: right;\">\n",
       "      <th></th>\n",
       "      <th>sentence</th>\n",
       "      <th>word</th>\n",
       "      <th>POS</th>\n",
       "      <th>tag</th>\n",
       "    </tr>\n",
       "  </thead>\n",
       "  <tbody>\n",
       "    <tr>\n",
       "      <th>0</th>\n",
       "      <td>1</td>\n",
       "      <td>This</td>\n",
       "      <td>DT</td>\n",
       "      <td>O</td>\n",
       "    </tr>\n",
       "    <tr>\n",
       "      <th>1</th>\n",
       "      <td>1</td>\n",
       "      <td>LOAN</td>\n",
       "      <td>NN</td>\n",
       "      <td>O</td>\n",
       "    </tr>\n",
       "    <tr>\n",
       "      <th>2</th>\n",
       "      <td>1</td>\n",
       "      <td>AND</td>\n",
       "      <td>CC</td>\n",
       "      <td>O</td>\n",
       "    </tr>\n",
       "    <tr>\n",
       "      <th>3</th>\n",
       "      <td>1</td>\n",
       "      <td>SECURITY</td>\n",
       "      <td>NNP</td>\n",
       "      <td>O</td>\n",
       "    </tr>\n",
       "    <tr>\n",
       "      <th>4</th>\n",
       "      <td>1</td>\n",
       "      <td>AGREEMENT</td>\n",
       "      <td>NNP</td>\n",
       "      <td>O</td>\n",
       "    </tr>\n",
       "    <tr>\n",
       "      <th>...</th>\n",
       "      <td>...</td>\n",
       "      <td>...</td>\n",
       "      <td>...</td>\n",
       "      <td>...</td>\n",
       "    </tr>\n",
       "    <tr>\n",
       "      <th>41010</th>\n",
       "      <td>1168</td>\n",
       "      <td>s</td>\n",
       "      <td>NNS</td>\n",
       "      <td>O</td>\n",
       "    </tr>\n",
       "    <tr>\n",
       "      <th>41011</th>\n",
       "      <td>1168</td>\n",
       "      <td>/</td>\n",
       "      <td>:</td>\n",
       "      <td>O</td>\n",
       "    </tr>\n",
       "    <tr>\n",
       "      <th>41012</th>\n",
       "      <td>1168</td>\n",
       "      <td>Bing</td>\n",
       "      <td>VBG</td>\n",
       "      <td>I-PER</td>\n",
       "    </tr>\n",
       "    <tr>\n",
       "      <th>41013</th>\n",
       "      <td>1168</td>\n",
       "      <td>Yu</td>\n",
       "      <td>NNP</td>\n",
       "      <td>I-PER</td>\n",
       "    </tr>\n",
       "    <tr>\n",
       "      <th>41014</th>\n",
       "      <td>1169</td>\n",
       "      <td>NaN</td>\n",
       "      <td>NaN</td>\n",
       "      <td>NaN</td>\n",
       "    </tr>\n",
       "  </tbody>\n",
       "</table>\n",
       "<p>41015 rows × 4 columns</p>\n",
       "</div>"
      ],
      "text/plain": [
       "       sentence       word  POS    tag\n",
       "0             1       This   DT      O\n",
       "1             1       LOAN   NN      O\n",
       "2             1        AND   CC      O\n",
       "3             1   SECURITY  NNP      O\n",
       "4             1  AGREEMENT  NNP      O\n",
       "...         ...        ...  ...    ...\n",
       "41010      1168          s  NNS      O\n",
       "41011      1168          /    :      O\n",
       "41012      1168       Bing  VBG  I-PER\n",
       "41013      1168         Yu  NNP  I-PER\n",
       "41014      1169        NaN  NaN    NaN\n",
       "\n",
       "[41015 rows x 4 columns]"
      ]
     },
     "execution_count": 11,
     "metadata": {},
     "output_type": "execute_result"
    }
   ],
   "source": [
    "train"
   ]
  },
  {
   "cell_type": "code",
   "execution_count": null,
   "id": "western-colonial",
   "metadata": {},
   "outputs": [],
   "source": []
  }
 ],
 "metadata": {
  "kernelspec": {
   "display_name": "Python 3",
   "language": "python",
   "name": "python3"
  },
  "language_info": {
   "codemirror_mode": {
    "name": "ipython",
    "version": 3
   },
   "file_extension": ".py",
   "mimetype": "text/x-python",
   "name": "python",
   "nbconvert_exporter": "python",
   "pygments_lexer": "ipython3",
   "version": "3.7.10"
  }
 },
 "nbformat": 4,
 "nbformat_minor": 5
}
